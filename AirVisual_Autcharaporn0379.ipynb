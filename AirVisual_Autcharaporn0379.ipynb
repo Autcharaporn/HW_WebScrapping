{
  "nbformat": 4,
  "nbformat_minor": 0,
  "metadata": {
    "colab": {
      "name": "AirVisual_Autcharaporn0379",
      "provenance": [],
      "collapsed_sections": []
    },
    "kernelspec": {
      "name": "python3",
      "display_name": "Python 3"
    }
  },
  "cells": [
    {
      "cell_type": "code",
      "metadata": {
        "id": "qP78AxDrRlaN",
        "colab_type": "code",
        "colab": {}
      },
      "source": [
        "from requests import get\n",
        "from bs4 import BeautifulSoup"
      ],
      "execution_count": 0,
      "outputs": []
    },
    {
      "cell_type": "markdown",
      "metadata": {
        "id": "T2VfGgYgAvYG",
        "colab_type": "text"
      },
      "source": [
        "**Workplace**"
      ]
    },
    {
      "cell_type": "code",
      "metadata": {
        "id": "iAlKtu-SvN0C",
        "colab_type": "code",
        "colab": {}
      },
      "source": [
        "\n",
        "url = \"https://www.airvisual.com/thailand/bangkok/pathum-wan\"\n",
        "response = get(url)\n"
      ],
      "execution_count": 0,
      "outputs": []
    },
    {
      "cell_type": "code",
      "metadata": {
        "id": "oog9Wpp8vVWF",
        "colab_type": "code",
        "outputId": "fcd5e7f7-faf5-40e8-dfde-dd868487b450",
        "colab": {
          "base_uri": "https://localhost:8080/",
          "height": 35
        }
      },
      "source": [
        "html_soup = BeautifulSoup(response.text,'html.parser')\n",
        "type(html_soup)"
      ],
      "execution_count": 30,
      "outputs": [
        {
          "output_type": "execute_result",
          "data": {
            "text/plain": [
              "bs4.BeautifulSoup"
            ]
          },
          "metadata": {
            "tags": []
          },
          "execution_count": 30
        }
      ]
    },
    {
      "cell_type": "code",
      "metadata": {
        "id": "oqm6Fz7eOrTH",
        "colab_type": "code",
        "outputId": "1bf6c57a-a445-42dc-e8fb-49c419d846b5",
        "colab": {
          "base_uri": "https://localhost:8080/",
          "height": 54
        }
      },
      "source": [
        "AitVisual_containers = html_soup.find_all('span', class_ = 'aqi')\n",
        "print(type(AitVisual_containers))\n",
        "print(len(AitVisual_containers))"
      ],
      "execution_count": 31,
      "outputs": [
        {
          "output_type": "stream",
          "text": [
            "<class 'bs4.element.ResultSet'>\n",
            "2\n"
          ],
          "name": "stdout"
        }
      ]
    },
    {
      "cell_type": "code",
      "metadata": {
        "id": "tmOYoLd0P0X1",
        "colab_type": "code",
        "outputId": "616d5b45-9c9a-490c-e38d-24a6ddc15f57",
        "colab": {
          "base_uri": "https://localhost:8080/",
          "height": 35
        }
      },
      "source": [
        "Chula_hospital = AitVisual_containers[0]\n",
        "'Chula_hospital air quality index (AQI) and PM2.5 air pollution is'+ Chula_hospital.text.replace('US', ' US')"
      ],
      "execution_count": 32,
      "outputs": [
        {
          "output_type": "execute_result",
          "data": {
            "text/plain": [
              "'Chula_hospital air quality index (AQI) and PM2.5 air pollution is99 US AQI'"
            ]
          },
          "metadata": {
            "tags": []
          },
          "execution_count": 32
        }
      ]
    },
    {
      "cell_type": "code",
      "metadata": {
        "id": "7-adC2cfTleC",
        "colab_type": "code",
        "colab": {}
      },
      "source": [
        ""
      ],
      "execution_count": 0,
      "outputs": []
    },
    {
      "cell_type": "markdown",
      "metadata": {
        "id": "72WDeI2eAyqQ",
        "colab_type": "text"
      },
      "source": [
        "**At home**"
      ]
    },
    {
      "cell_type": "code",
      "metadata": {
        "id": "xFbmcf8dQKsm",
        "colab_type": "code",
        "colab": {}
      },
      "source": [
        "url = \"https://www.airvisual.com/thailand/changwat-ubon-ratchathani/ubon-ratchathani\"\n",
        "response = get(url)"
      ],
      "execution_count": 0,
      "outputs": []
    },
    {
      "cell_type": "code",
      "metadata": {
        "id": "4Z59DlURTs1z",
        "colab_type": "code",
        "outputId": "126da068-5648-4b27-8a4d-3ef1ac0bae4c",
        "colab": {
          "base_uri": "https://localhost:8080/",
          "height": 35
        }
      },
      "source": [
        "html_soup = BeautifulSoup(response.text,'html.parser')\n",
        "type(html_soup)"
      ],
      "execution_count": 34,
      "outputs": [
        {
          "output_type": "execute_result",
          "data": {
            "text/plain": [
              "bs4.BeautifulSoup"
            ]
          },
          "metadata": {
            "tags": []
          },
          "execution_count": 34
        }
      ]
    },
    {
      "cell_type": "code",
      "metadata": {
        "id": "TcNPG0VnTgOH",
        "colab_type": "code",
        "colab": {}
      },
      "source": [
        "AitVisual_containers = html_soup.find_all('span', class_ = 'aqi')"
      ],
      "execution_count": 0,
      "outputs": []
    },
    {
      "cell_type": "code",
      "metadata": {
        "id": "CX1xWjMbSWi1",
        "colab_type": "code",
        "outputId": "62f2fcd9-f06b-4982-a294-9576e2b4706d",
        "colab": {
          "base_uri": "https://localhost:8080/",
          "height": 35
        }
      },
      "source": [
        "ubon_ratchathani = AitVisual_containers[0]\n",
        "'ubon_ratchathani air quality index (AQI) and PM2.5 air pollution is'+ ubon_ratchathani.text.replace('US', ' US')"
      ],
      "execution_count": 37,
      "outputs": [
        {
          "output_type": "execute_result",
          "data": {
            "text/plain": [
              "'ubon_ratchathani air quality index (AQI) and PM2.5 air pollution is68 US AQI'"
            ]
          },
          "metadata": {
            "tags": []
          },
          "execution_count": 37
        }
      ]
    },
    {
      "cell_type": "code",
      "metadata": {
        "id": "dBRdkjW4S14-",
        "colab_type": "code",
        "colab": {}
      },
      "source": [
        ""
      ],
      "execution_count": 0,
      "outputs": []
    }
  ]
}